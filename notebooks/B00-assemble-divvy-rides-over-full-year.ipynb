{
 "cells": [
  {
   "cell_type": "code",
   "execution_count": 1,
   "id": "6df5a92a",
   "metadata": {},
   "outputs": [],
   "source": [
    "import pandas as pd\n",
    "import glob"
   ]
  },
  {
   "cell_type": "markdown",
   "id": "84b4b14c",
   "metadata": {},
   "source": [
    "# Assemble Full Year of Data"
   ]
  },
  {
   "cell_type": "code",
   "execution_count": 2,
   "id": "f790ff6e",
   "metadata": {},
   "outputs": [],
   "source": [
    "path = '../data/01-raw/full-year'\n",
    "all_files = glob.glob(path + \"/*.csv\")\n",
    "all_dataframes = []"
   ]
  },
  {
   "cell_type": "code",
   "execution_count": 3,
   "id": "d2bffe85",
   "metadata": {},
   "outputs": [],
   "source": [
    "for filename in all_files:\n",
    "    df = pd.read_csv(filename, index_col=None, header=0)\n",
    "    all_dataframes.append(df)"
   ]
  },
  {
   "cell_type": "code",
   "execution_count": 4,
   "id": "a0594ab8",
   "metadata": {},
   "outputs": [],
   "source": [
    "concatenated_df = pd.concat(all_dataframes, axis = 0, ignore_index=True)"
   ]
  },
  {
   "cell_type": "code",
   "execution_count": 5,
   "id": "180ab89b",
   "metadata": {},
   "outputs": [],
   "source": [
    "concatenated_df.to_csv('../data/01-raw/full-year.csv', index=False)"
   ]
  },
  {
   "cell_type": "code",
   "execution_count": null,
   "id": "39fe7817",
   "metadata": {},
   "outputs": [],
   "source": []
  }
 ],
 "metadata": {
  "kernelspec": {
   "display_name": "Python 3 (ipykernel)",
   "language": "python",
   "name": "python3"
  },
  "language_info": {
   "codemirror_mode": {
    "name": "ipython",
    "version": 3
   },
   "file_extension": ".py",
   "mimetype": "text/x-python",
   "name": "python",
   "nbconvert_exporter": "python",
   "pygments_lexer": "ipython3",
   "version": "3.10.12"
  }
 },
 "nbformat": 4,
 "nbformat_minor": 5
}
