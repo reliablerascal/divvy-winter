{
 "cells": [
  {
   "cell_type": "markdown",
   "id": "2ad4028d",
   "metadata": {},
   "source": [
    "# Compare Divvy Ridership with CTA Ridership\n",
    "<div style=\"color:red\">no useful data yet. may need to wait until around May</div>"
   ]
  },
  {
   "cell_type": "markdown",
   "id": "680a2d88",
   "metadata": {},
   "source": [
    "2/21/24\n",
    "daily total ridership data at https://data.cityofchicago.org/Transportation/CTA-Ridership-Daily-Boarding-Totals/6iiy-9s97/about_data\n",
    "daily L station entries at https://data.cityofchicago.org/Transportation/CTA-Ridership-L-Station-Entries-Daily-Totals/5neh-572f/about_data\n",
    "and https://www.transitchicago.com/ridership/\n",
    "\n",
    "but none of these has any data newer than 10/31/23"
   ]
  },
  {
   "cell_type": "code",
   "execution_count": 3,
   "id": "bb2fd905",
   "metadata": {},
   "outputs": [],
   "source": [
    "import pandas as pd\n",
    "import requests"
   ]
  },
  {
   "cell_type": "code",
   "execution_count": null,
   "id": "d067349a",
   "metadata": {},
   "outputs": [],
   "source": []
  }
 ],
 "metadata": {
  "kernelspec": {
   "display_name": "Python 3 (ipykernel)",
   "language": "python",
   "name": "python3"
  },
  "language_info": {
   "codemirror_mode": {
    "name": "ipython",
    "version": 3
   },
   "file_extension": ".py",
   "mimetype": "text/x-python",
   "name": "python",
   "nbconvert_exporter": "python",
   "pygments_lexer": "ipython3",
   "version": "3.10.12"
  }
 },
 "nbformat": 4,
 "nbformat_minor": 5
}
