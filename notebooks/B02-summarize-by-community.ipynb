{
 "cells": [
  {
   "cell_type": "markdown",
   "id": "34f30c28",
   "metadata": {},
   "source": [
    "# Summarize Divvy by Community\n",
    "2/16/24"
   ]
  },
  {
   "cell_type": "code",
   "execution_count": 1,
   "id": "6df5a92a",
   "metadata": {},
   "outputs": [],
   "source": [
    "import pandas as pd"
   ]
  },
  {
   "cell_type": "markdown",
   "id": "b3a8746c",
   "metadata": {},
   "source": [
    "# Read Full Year"
   ]
  },
  {
   "cell_type": "code",
   "execution_count": 2,
   "id": "d69c4314",
   "metadata": {},
   "outputs": [],
   "source": [
    "df = pd.read_csv(\"../data/divvy-stations-clean-2023_02-to-2024-01.csv\")"
   ]
  },
  {
   "cell_type": "code",
   "execution_count": 3,
   "id": "7897299f",
   "metadata": {},
   "outputs": [
    {
     "data": {
      "text/html": [
       "<div>\n",
       "<style scoped>\n",
       "    .dataframe tbody tr th:only-of-type {\n",
       "        vertical-align: middle;\n",
       "    }\n",
       "\n",
       "    .dataframe tbody tr th {\n",
       "        vertical-align: top;\n",
       "    }\n",
       "\n",
       "    .dataframe thead th {\n",
       "        text-align: right;\n",
       "    }\n",
       "</style>\n",
       "<table border=\"1\" class=\"dataframe\">\n",
       "  <thead>\n",
       "    <tr style=\"text-align: right;\">\n",
       "      <th></th>\n",
       "      <th>start_station_name</th>\n",
       "      <th>rides_all</th>\n",
       "      <th>rides_january</th>\n",
       "      <th>rides_jan14_16</th>\n",
       "      <th>first_ride</th>\n",
       "      <th>last_ride</th>\n",
       "      <th>first_lat</th>\n",
       "      <th>first_lng</th>\n",
       "      <th>community</th>\n",
       "      <th>edit community</th>\n",
       "      <th>...</th>\n",
       "      <th>recode</th>\n",
       "      <th>community_clean</th>\n",
       "      <th>area</th>\n",
       "      <th>shape_area</th>\n",
       "      <th>perimeter</th>\n",
       "      <th>area_num_1</th>\n",
       "      <th>area_numbe</th>\n",
       "      <th>comarea_id</th>\n",
       "      <th>comarea</th>\n",
       "      <th>shape_len</th>\n",
       "    </tr>\n",
       "  </thead>\n",
       "  <tbody>\n",
       "    <tr>\n",
       "      <th>0</th>\n",
       "      <td>Karlov Ave &amp; Lawrence Ave</td>\n",
       "      <td>58</td>\n",
       "      <td>3</td>\n",
       "      <td>0</td>\n",
       "      <td>2023/10/20</td>\n",
       "      <td>2024/01/13</td>\n",
       "      <td>41.967880</td>\n",
       "      <td>-87.730414</td>\n",
       "      <td>ALBANY PARK</td>\n",
       "      <td>NaN</td>\n",
       "      <td>...</td>\n",
       "      <td>NaN</td>\n",
       "      <td>ALBANY PARK</td>\n",
       "      <td>0.0</td>\n",
       "      <td>53542230.82</td>\n",
       "      <td>0.0</td>\n",
       "      <td>14.0</td>\n",
       "      <td>14.0</td>\n",
       "      <td>0.0</td>\n",
       "      <td>0.0</td>\n",
       "      <td>39339.01644</td>\n",
       "    </tr>\n",
       "    <tr>\n",
       "      <th>1</th>\n",
       "      <td>Kedzie Ave &amp; Leland Ave</td>\n",
       "      <td>2134</td>\n",
       "      <td>58</td>\n",
       "      <td>1</td>\n",
       "      <td>2023/02/01</td>\n",
       "      <td>2024/01/31</td>\n",
       "      <td>41.966463</td>\n",
       "      <td>-87.708333</td>\n",
       "      <td>ALBANY PARK</td>\n",
       "      <td>NaN</td>\n",
       "      <td>...</td>\n",
       "      <td>NaN</td>\n",
       "      <td>ALBANY PARK</td>\n",
       "      <td>0.0</td>\n",
       "      <td>53542230.82</td>\n",
       "      <td>0.0</td>\n",
       "      <td>14.0</td>\n",
       "      <td>14.0</td>\n",
       "      <td>0.0</td>\n",
       "      <td>0.0</td>\n",
       "      <td>39339.01644</td>\n",
       "    </tr>\n",
       "    <tr>\n",
       "      <th>2</th>\n",
       "      <td>Monticello Ave &amp; Lawrence Ave</td>\n",
       "      <td>216</td>\n",
       "      <td>23</td>\n",
       "      <td>0</td>\n",
       "      <td>2023/09/20</td>\n",
       "      <td>2024/01/31</td>\n",
       "      <td>41.968058</td>\n",
       "      <td>-87.719664</td>\n",
       "      <td>ALBANY PARK</td>\n",
       "      <td>NaN</td>\n",
       "      <td>...</td>\n",
       "      <td>NaN</td>\n",
       "      <td>ALBANY PARK</td>\n",
       "      <td>0.0</td>\n",
       "      <td>53542230.82</td>\n",
       "      <td>0.0</td>\n",
       "      <td>14.0</td>\n",
       "      <td>14.0</td>\n",
       "      <td>0.0</td>\n",
       "      <td>0.0</td>\n",
       "      <td>39339.01644</td>\n",
       "    </tr>\n",
       "    <tr>\n",
       "      <th>3</th>\n",
       "      <td>N Shore Channel Trail &amp; Argyle St</td>\n",
       "      <td>1128</td>\n",
       "      <td>22</td>\n",
       "      <td>0</td>\n",
       "      <td>2023/02/01</td>\n",
       "      <td>2024/01/29</td>\n",
       "      <td>41.970000</td>\n",
       "      <td>-87.703086</td>\n",
       "      <td>ALBANY PARK</td>\n",
       "      <td>NaN</td>\n",
       "      <td>...</td>\n",
       "      <td>NaN</td>\n",
       "      <td>ALBANY PARK</td>\n",
       "      <td>0.0</td>\n",
       "      <td>53542230.82</td>\n",
       "      <td>0.0</td>\n",
       "      <td>14.0</td>\n",
       "      <td>14.0</td>\n",
       "      <td>0.0</td>\n",
       "      <td>0.0</td>\n",
       "      <td>39339.01644</td>\n",
       "    </tr>\n",
       "    <tr>\n",
       "      <th>4</th>\n",
       "      <td>Public Rack - 4810 Keeler Ave</td>\n",
       "      <td>56</td>\n",
       "      <td>0</td>\n",
       "      <td>0</td>\n",
       "      <td>2023/05/12</td>\n",
       "      <td>2023/12/18</td>\n",
       "      <td>41.968245</td>\n",
       "      <td>-87.733088</td>\n",
       "      <td>ALBANY PARK</td>\n",
       "      <td>NaN</td>\n",
       "      <td>...</td>\n",
       "      <td>NaN</td>\n",
       "      <td>ALBANY PARK</td>\n",
       "      <td>0.0</td>\n",
       "      <td>53542230.82</td>\n",
       "      <td>0.0</td>\n",
       "      <td>14.0</td>\n",
       "      <td>14.0</td>\n",
       "      <td>0.0</td>\n",
       "      <td>0.0</td>\n",
       "      <td>39339.01644</td>\n",
       "    </tr>\n",
       "  </tbody>\n",
       "</table>\n",
       "<p>5 rows × 24 columns</p>\n",
       "</div>"
      ],
      "text/plain": [
       "                  start_station_name  rides_all  rides_january  \\\n",
       "0          Karlov Ave & Lawrence Ave         58              3   \n",
       "1            Kedzie Ave & Leland Ave       2134             58   \n",
       "2      Monticello Ave & Lawrence Ave        216             23   \n",
       "3  N Shore Channel Trail & Argyle St       1128             22   \n",
       "4      Public Rack - 4810 Keeler Ave         56              0   \n",
       "\n",
       "   rides_jan14_16  first_ride   last_ride  first_lat  first_lng    community  \\\n",
       "0               0  2023/10/20  2024/01/13  41.967880 -87.730414  ALBANY PARK   \n",
       "1               1  2023/02/01  2024/01/31  41.966463 -87.708333  ALBANY PARK   \n",
       "2               0  2023/09/20  2024/01/31  41.968058 -87.719664  ALBANY PARK   \n",
       "3               0  2023/02/01  2024/01/29  41.970000 -87.703086  ALBANY PARK   \n",
       "4               0  2023/05/12  2023/12/18  41.968245 -87.733088  ALBANY PARK   \n",
       "\n",
       "  edit community  ... recode community_clean area   shape_area  perimeter  \\\n",
       "0            NaN  ...    NaN     ALBANY PARK  0.0  53542230.82        0.0   \n",
       "1            NaN  ...    NaN     ALBANY PARK  0.0  53542230.82        0.0   \n",
       "2            NaN  ...    NaN     ALBANY PARK  0.0  53542230.82        0.0   \n",
       "3            NaN  ...    NaN     ALBANY PARK  0.0  53542230.82        0.0   \n",
       "4            NaN  ...    NaN     ALBANY PARK  0.0  53542230.82        0.0   \n",
       "\n",
       "  area_num_1  area_numbe  comarea_id  comarea    shape_len  \n",
       "0       14.0        14.0         0.0      0.0  39339.01644  \n",
       "1       14.0        14.0         0.0      0.0  39339.01644  \n",
       "2       14.0        14.0         0.0      0.0  39339.01644  \n",
       "3       14.0        14.0         0.0      0.0  39339.01644  \n",
       "4       14.0        14.0         0.0      0.0  39339.01644  \n",
       "\n",
       "[5 rows x 24 columns]"
      ]
     },
     "execution_count": 3,
     "metadata": {},
     "output_type": "execute_result"
    }
   ],
   "source": [
    "df.head()"
   ]
  },
  {
   "cell_type": "code",
   "execution_count": 4,
   "id": "66eef90b",
   "metadata": {},
   "outputs": [],
   "source": [
    "### reconcile totals"
   ]
  },
  {
   "cell_type": "code",
   "execution_count": 5,
   "id": "e3f829e2",
   "metadata": {},
   "outputs": [
    {
     "data": {
      "text/plain": [
       "1597"
      ]
     },
     "execution_count": 5,
     "metadata": {},
     "output_type": "execute_result"
    }
   ],
   "source": [
    "# stations\n",
    "len(df)"
   ]
  },
  {
   "cell_type": "code",
   "execution_count": 6,
   "id": "cb26bb53",
   "metadata": {},
   "outputs": [
    {
     "data": {
      "text/plain": [
       "4806289"
      ]
     },
     "execution_count": 6,
     "metadata": {},
     "output_type": "execute_result"
    }
   ],
   "source": [
    "# rides\n",
    "df['rides_all'].sum()"
   ]
  },
  {
   "cell_type": "code",
   "execution_count": null,
   "id": "39fe7817",
   "metadata": {},
   "outputs": [],
   "source": []
  }
 ],
 "metadata": {
  "kernelspec": {
   "display_name": "Python 3 (ipykernel)",
   "language": "python",
   "name": "python3"
  },
  "language_info": {
   "codemirror_mode": {
    "name": "ipython",
    "version": 3
   },
   "file_extension": ".py",
   "mimetype": "text/x-python",
   "name": "python",
   "nbconvert_exporter": "python",
   "pygments_lexer": "ipython3",
   "version": "3.10.12"
  }
 },
 "nbformat": 4,
 "nbformat_minor": 5
}
