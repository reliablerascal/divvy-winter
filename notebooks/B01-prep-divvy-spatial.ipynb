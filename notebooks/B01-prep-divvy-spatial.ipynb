{
 "cells": [
  {
   "cell_type": "markdown",
   "id": "a7714cb4",
   "metadata": {},
   "source": [
    "# Prepare Divvy Spatial Data\n",
    "2/17/24\n",
    "This notebook prepares Divvy ride data for spatial analysis."
   ]
  },
  {
   "cell_type": "markdown",
   "id": "f5ceeb20",
   "metadata": {},
   "source": [
    "### Overview of Data\n",
    "868,160 rides have missing data for start station, but these all have GPS (lat/lng) coordinates and are likely undocked electric bikes. So I decided to group bikes by start_station_name to get station-level summary data, but create a separate file for all rides starting with free-floating bikes (~15% of bikes) not docked in a station.\n",
    "\n",
    "For unknown reasons, the GPS location of undocked free-floating bikes is provided with low precision, to only two decimal places (e.g. 41.91,-87.63), which limits the number of possible locations to 730 citywide even though actual bike locations are limitless. So these rides can be rolled up to \"pseudo-stations.\"\n",
    "\n",
    "This creates three files in the folder /data/02-prepped/:\n",
    "| dataset | description | # records | record type |\n",
    "|---|:---|---|:---|\n",
    "|divvy-rides-2023-02-to-2024-01.csv|all rides|5,674,449|rides|\n",
    "|divvy-non-station-rides-2023-02-to-2024-01.csv|rides initiated from free-floating (non-docked) bikes|868,160|rides|\n",
    "|divvy-stations-2023-02-to-2024-01.csv|rides grouped by starting station, including 4,806,289 rides|1,596|stations|\n",
    "|divvy-undocked_locations-2023-02-to-2024-01.csv|undocked rides grouped by GPS coordinates, including 868,160 rides|45|locations|\n",
    "\n",
    "and another file for monthly totals in /results/rides-by-month.csv"
   ]
  },
  {
   "cell_type": "markdown",
   "id": "b3a8746c",
   "metadata": {},
   "source": [
    "# Read Full Year"
   ]
  },
  {
   "cell_type": "code",
   "execution_count": 1,
   "id": "6df5a92a",
   "metadata": {},
   "outputs": [],
   "source": [
    "import pandas as pd"
   ]
  },
  {
   "cell_type": "code",
   "execution_count": 29,
   "id": "d69c4314",
   "metadata": {},
   "outputs": [],
   "source": [
    "df = pd.read_csv(\"../data/01-raw/full-year.csv\")"
   ]
  },
  {
   "cell_type": "code",
   "execution_count": 38,
   "id": "7897299f",
   "metadata": {},
   "outputs": [
    {
     "data": {
      "text/html": [
       "<div>\n",
       "<style scoped>\n",
       "    .dataframe tbody tr th:only-of-type {\n",
       "        vertical-align: middle;\n",
       "    }\n",
       "\n",
       "    .dataframe tbody tr th {\n",
       "        vertical-align: top;\n",
       "    }\n",
       "\n",
       "    .dataframe thead th {\n",
       "        text-align: right;\n",
       "    }\n",
       "</style>\n",
       "<table border=\"1\" class=\"dataframe\">\n",
       "  <thead>\n",
       "    <tr style=\"text-align: right;\">\n",
       "      <th></th>\n",
       "      <th>ride_id</th>\n",
       "      <th>rideable_type</th>\n",
       "      <th>started_at</th>\n",
       "      <th>ended_at</th>\n",
       "      <th>start_station_name</th>\n",
       "      <th>start_station_id</th>\n",
       "      <th>end_station_name</th>\n",
       "      <th>end_station_id</th>\n",
       "      <th>start_lat</th>\n",
       "      <th>start_lng</th>\n",
       "      <th>end_lat</th>\n",
       "      <th>end_lng</th>\n",
       "      <th>member_casual</th>\n",
       "    </tr>\n",
       "  </thead>\n",
       "  <tbody>\n",
       "    <tr>\n",
       "      <th>0</th>\n",
       "      <td>CBCD0D7777F0E45F</td>\n",
       "      <td>classic_bike</td>\n",
       "      <td>2023-02-14 11:59:42</td>\n",
       "      <td>2023-02-14 12:13:38</td>\n",
       "      <td>Southport Ave &amp; Clybourn Ave</td>\n",
       "      <td>TA1309000030</td>\n",
       "      <td>Clark St &amp; Schiller St</td>\n",
       "      <td>TA1309000024</td>\n",
       "      <td>41.920771</td>\n",
       "      <td>-87.663712</td>\n",
       "      <td>41.907993</td>\n",
       "      <td>-87.631501</td>\n",
       "      <td>casual</td>\n",
       "    </tr>\n",
       "    <tr>\n",
       "      <th>1</th>\n",
       "      <td>F3EC5FCE5FF39DE9</td>\n",
       "      <td>electric_bike</td>\n",
       "      <td>2023-02-15 13:53:48</td>\n",
       "      <td>2023-02-15 13:59:08</td>\n",
       "      <td>Clarendon Ave &amp; Gordon Ter</td>\n",
       "      <td>13379</td>\n",
       "      <td>Sheridan Rd &amp; Lawrence Ave</td>\n",
       "      <td>TA1309000041</td>\n",
       "      <td>41.957879</td>\n",
       "      <td>-87.649584</td>\n",
       "      <td>41.969517</td>\n",
       "      <td>-87.654691</td>\n",
       "      <td>casual</td>\n",
       "    </tr>\n",
       "    <tr>\n",
       "      <th>2</th>\n",
       "      <td>E54C1F27FA9354FF</td>\n",
       "      <td>classic_bike</td>\n",
       "      <td>2023-02-19 11:10:57</td>\n",
       "      <td>2023-02-19 11:35:01</td>\n",
       "      <td>Southport Ave &amp; Clybourn Ave</td>\n",
       "      <td>TA1309000030</td>\n",
       "      <td>Aberdeen St &amp; Monroe St</td>\n",
       "      <td>13156</td>\n",
       "      <td>41.920771</td>\n",
       "      <td>-87.663712</td>\n",
       "      <td>41.880419</td>\n",
       "      <td>-87.655519</td>\n",
       "      <td>member</td>\n",
       "    </tr>\n",
       "    <tr>\n",
       "      <th>3</th>\n",
       "      <td>3D561E04F739CC45</td>\n",
       "      <td>electric_bike</td>\n",
       "      <td>2023-02-26 16:12:05</td>\n",
       "      <td>2023-02-26 16:39:55</td>\n",
       "      <td>Southport Ave &amp; Clybourn Ave</td>\n",
       "      <td>TA1309000030</td>\n",
       "      <td>Franklin St &amp; Adams St (Temp)</td>\n",
       "      <td>TA1309000008</td>\n",
       "      <td>41.920873</td>\n",
       "      <td>-87.663733</td>\n",
       "      <td>41.879434</td>\n",
       "      <td>-87.635504</td>\n",
       "      <td>member</td>\n",
       "    </tr>\n",
       "    <tr>\n",
       "      <th>4</th>\n",
       "      <td>0CB4B4D53B2DBE05</td>\n",
       "      <td>electric_bike</td>\n",
       "      <td>2023-02-20 11:55:23</td>\n",
       "      <td>2023-02-20 12:05:48</td>\n",
       "      <td>Prairie Ave &amp; Garfield Blvd</td>\n",
       "      <td>TA1307000160</td>\n",
       "      <td>Cottage Grove Ave &amp; 63rd St</td>\n",
       "      <td>KA1503000054</td>\n",
       "      <td>41.794827</td>\n",
       "      <td>-87.618795</td>\n",
       "      <td>41.780531</td>\n",
       "      <td>-87.605970</td>\n",
       "      <td>member</td>\n",
       "    </tr>\n",
       "  </tbody>\n",
       "</table>\n",
       "</div>"
      ],
      "text/plain": [
       "            ride_id  rideable_type           started_at             ended_at  \\\n",
       "0  CBCD0D7777F0E45F   classic_bike  2023-02-14 11:59:42  2023-02-14 12:13:38   \n",
       "1  F3EC5FCE5FF39DE9  electric_bike  2023-02-15 13:53:48  2023-02-15 13:59:08   \n",
       "2  E54C1F27FA9354FF   classic_bike  2023-02-19 11:10:57  2023-02-19 11:35:01   \n",
       "3  3D561E04F739CC45  electric_bike  2023-02-26 16:12:05  2023-02-26 16:39:55   \n",
       "4  0CB4B4D53B2DBE05  electric_bike  2023-02-20 11:55:23  2023-02-20 12:05:48   \n",
       "\n",
       "             start_station_name start_station_id  \\\n",
       "0  Southport Ave & Clybourn Ave     TA1309000030   \n",
       "1    Clarendon Ave & Gordon Ter            13379   \n",
       "2  Southport Ave & Clybourn Ave     TA1309000030   \n",
       "3  Southport Ave & Clybourn Ave     TA1309000030   \n",
       "4   Prairie Ave & Garfield Blvd     TA1307000160   \n",
       "\n",
       "                end_station_name end_station_id  start_lat  start_lng  \\\n",
       "0         Clark St & Schiller St   TA1309000024  41.920771 -87.663712   \n",
       "1     Sheridan Rd & Lawrence Ave   TA1309000041  41.957879 -87.649584   \n",
       "2        Aberdeen St & Monroe St          13156  41.920771 -87.663712   \n",
       "3  Franklin St & Adams St (Temp)   TA1309000008  41.920873 -87.663733   \n",
       "4    Cottage Grove Ave & 63rd St   KA1503000054  41.794827 -87.618795   \n",
       "\n",
       "     end_lat    end_lng member_casual  \n",
       "0  41.907993 -87.631501        casual  \n",
       "1  41.969517 -87.654691        casual  \n",
       "2  41.880419 -87.655519        member  \n",
       "3  41.879434 -87.635504        member  \n",
       "4  41.780531 -87.605970        member  "
      ]
     },
     "execution_count": 38,
     "metadata": {},
     "output_type": "execute_result"
    }
   ],
   "source": [
    "df.head()"
   ]
  },
  {
   "cell_type": "code",
   "execution_count": 39,
   "id": "e3f829e2",
   "metadata": {},
   "outputs": [
    {
     "data": {
      "text/plain": [
       "5674449"
      ]
     },
     "execution_count": 39,
     "metadata": {},
     "output_type": "execute_result"
    }
   ],
   "source": [
    "len(df)"
   ]
  },
  {
   "cell_type": "markdown",
   "id": "4a4e6f6f",
   "metadata": {},
   "source": [
    "# Prep Data"
   ]
  },
  {
   "cell_type": "markdown",
   "id": "da9736a3",
   "metadata": {},
   "source": [
    "### check for null stations\n",
    "My takeaway- a substantial # of divvy rides don't have a station ID, possibly because they're electric bikes tied up in areas outside of stations\n",
    "notably, all of these have GPS coordinates"
   ]
  },
  {
   "cell_type": "code",
   "execution_count": 40,
   "id": "317c02ea",
   "metadata": {},
   "outputs": [
    {
     "data": {
      "text/plain": [
       "868160"
      ]
     },
     "execution_count": 40,
     "metadata": {},
     "output_type": "execute_result"
    }
   ],
   "source": [
    "# check for null stations\n",
    "df['start_station_name'].isnull().sum()"
   ]
  },
  {
   "cell_type": "code",
   "execution_count": 41,
   "id": "4df52edd",
   "metadata": {},
   "outputs": [
    {
     "data": {
      "text/plain": [
       "0"
      ]
     },
     "execution_count": 41,
     "metadata": {},
     "output_type": "execute_result"
    }
   ],
   "source": [
    "# check for null stations\n",
    "df['start_lat'].isnull().sum()"
   ]
  },
  {
   "cell_type": "code",
   "execution_count": 42,
   "id": "2aa06acf",
   "metadata": {},
   "outputs": [
    {
     "data": {
      "text/plain": [
       "0"
      ]
     },
     "execution_count": 42,
     "metadata": {},
     "output_type": "execute_result"
    }
   ],
   "source": [
    "# check for null stations\n",
    "df['start_lng'].isnull().sum()"
   ]
  },
  {
   "cell_type": "code",
   "execution_count": 43,
   "id": "49ea0382",
   "metadata": {},
   "outputs": [
    {
     "data": {
      "text/plain": [
       "868292"
      ]
     },
     "execution_count": 43,
     "metadata": {},
     "output_type": "execute_result"
    }
   ],
   "source": [
    "# check for null stations\n",
    "df['start_station_id'].isnull().sum()"
   ]
  },
  {
   "cell_type": "code",
   "execution_count": 44,
   "id": "87f15da2",
   "metadata": {},
   "outputs": [
    {
     "data": {
      "text/plain": [
       "922111"
      ]
     },
     "execution_count": 44,
     "metadata": {},
     "output_type": "execute_result"
    }
   ],
   "source": [
    "# check for null stations\n",
    "df['end_station_name'].isnull().sum()"
   ]
  },
  {
   "cell_type": "code",
   "execution_count": 45,
   "id": "7c577ebd",
   "metadata": {},
   "outputs": [
    {
     "data": {
      "text/plain": [
       "922252"
      ]
     },
     "execution_count": 45,
     "metadata": {},
     "output_type": "execute_result"
    }
   ],
   "source": [
    "# check for null stations\n",
    "df['end_station_id'].isnull().sum()"
   ]
  },
  {
   "cell_type": "code",
   "execution_count": 46,
   "id": "691e0ca5",
   "metadata": {},
   "outputs": [
    {
     "data": {
      "text/plain": [
       "7151"
      ]
     },
     "execution_count": 46,
     "metadata": {},
     "output_type": "execute_result"
    }
   ],
   "source": [
    "# check for null stations\n",
    "df['end_lat'].isnull().sum()"
   ]
  },
  {
   "cell_type": "code",
   "execution_count": 47,
   "id": "1c25bd6a",
   "metadata": {},
   "outputs": [
    {
     "data": {
      "text/plain": [
       "7151"
      ]
     },
     "execution_count": 47,
     "metadata": {},
     "output_type": "execute_result"
    }
   ],
   "source": [
    "# check for null stations\n",
    "df['end_lng'].isnull().sum()"
   ]
  },
  {
   "cell_type": "markdown",
   "id": "cded8add",
   "metadata": {},
   "source": [
    "### label undocked stations"
   ]
  },
  {
   "cell_type": "code",
   "execution_count": 48,
   "id": "62b85451",
   "metadata": {},
   "outputs": [],
   "source": [
    "# file undocked\n",
    "df['start_station_name'] = df['start_station_name'].fillna('undocked')\n",
    "df['end_station_name'] = df['start_station_name'].fillna('undocked')"
   ]
  },
  {
   "cell_type": "markdown",
   "id": "fbfabd4b",
   "metadata": {},
   "source": [
    "### parse dates"
   ]
  },
  {
   "cell_type": "code",
   "execution_count": 49,
   "id": "fb807536",
   "metadata": {},
   "outputs": [],
   "source": [
    "# convert times to datetime\n",
    "df['started_at'] = pd.to_datetime(df['started_at'])\n",
    "df['ended_at'] = pd.to_datetime(df['ended_at'])"
   ]
  },
  {
   "cell_type": "code",
   "execution_count": 51,
   "id": "65944cbb",
   "metadata": {},
   "outputs": [],
   "source": [
    "# parse date and time\n",
    "df['start_date'] = df['started_at'].dt.strftime('%Y-%m-%d')\n",
    "df['start_time'] = df['started_at'].dt.strftime('%H:%M')\n",
    "df['year_month'] = df['started_at'].dt.strftime('%Y-%m')"
   ]
  },
  {
   "cell_type": "markdown",
   "id": "e5ac2658",
   "metadata": {},
   "source": [
    "### flag for January and January 14-16"
   ]
  },
  {
   "cell_type": "code",
   "execution_count": 52,
   "id": "82102ae3",
   "metadata": {},
   "outputs": [],
   "source": [
    "df['is_january']=(df['start_date']>='2024-01-01') & (df['start_date']<='2024-01-31')"
   ]
  },
  {
   "cell_type": "code",
   "execution_count": 53,
   "id": "7fbe7094",
   "metadata": {},
   "outputs": [],
   "source": [
    "df['is_jan14_16']=(df['start_date']>='2024-01-14') & (df['start_date']<='2024-01-16')"
   ]
  },
  {
   "cell_type": "code",
   "execution_count": 54,
   "id": "fb58d867",
   "metadata": {
    "scrolled": true
   },
   "outputs": [
    {
     "data": {
      "text/html": [
       "<div>\n",
       "<style scoped>\n",
       "    .dataframe tbody tr th:only-of-type {\n",
       "        vertical-align: middle;\n",
       "    }\n",
       "\n",
       "    .dataframe tbody tr th {\n",
       "        vertical-align: top;\n",
       "    }\n",
       "\n",
       "    .dataframe thead th {\n",
       "        text-align: right;\n",
       "    }\n",
       "</style>\n",
       "<table border=\"1\" class=\"dataframe\">\n",
       "  <thead>\n",
       "    <tr style=\"text-align: right;\">\n",
       "      <th></th>\n",
       "      <th>ride_id</th>\n",
       "      <th>rideable_type</th>\n",
       "      <th>started_at</th>\n",
       "      <th>ended_at</th>\n",
       "      <th>start_station_name</th>\n",
       "      <th>start_station_id</th>\n",
       "      <th>end_station_name</th>\n",
       "      <th>end_station_id</th>\n",
       "      <th>start_lat</th>\n",
       "      <th>start_lng</th>\n",
       "      <th>end_lat</th>\n",
       "      <th>end_lng</th>\n",
       "      <th>member_casual</th>\n",
       "      <th>start_date</th>\n",
       "      <th>start_time</th>\n",
       "      <th>year_month</th>\n",
       "      <th>is_january</th>\n",
       "      <th>is_jan14_16</th>\n",
       "    </tr>\n",
       "  </thead>\n",
       "  <tbody>\n",
       "    <tr>\n",
       "      <th>0</th>\n",
       "      <td>CBCD0D7777F0E45F</td>\n",
       "      <td>classic_bike</td>\n",
       "      <td>2023-02-14 11:59:42</td>\n",
       "      <td>2023-02-14 12:13:38</td>\n",
       "      <td>Southport Ave &amp; Clybourn Ave</td>\n",
       "      <td>TA1309000030</td>\n",
       "      <td>Southport Ave &amp; Clybourn Ave</td>\n",
       "      <td>TA1309000024</td>\n",
       "      <td>41.920771</td>\n",
       "      <td>-87.663712</td>\n",
       "      <td>41.907993</td>\n",
       "      <td>-87.631501</td>\n",
       "      <td>casual</td>\n",
       "      <td>2023-02-14</td>\n",
       "      <td>11:59</td>\n",
       "      <td>2023-02</td>\n",
       "      <td>False</td>\n",
       "      <td>False</td>\n",
       "    </tr>\n",
       "    <tr>\n",
       "      <th>1</th>\n",
       "      <td>F3EC5FCE5FF39DE9</td>\n",
       "      <td>electric_bike</td>\n",
       "      <td>2023-02-15 13:53:48</td>\n",
       "      <td>2023-02-15 13:59:08</td>\n",
       "      <td>Clarendon Ave &amp; Gordon Ter</td>\n",
       "      <td>13379</td>\n",
       "      <td>Clarendon Ave &amp; Gordon Ter</td>\n",
       "      <td>TA1309000041</td>\n",
       "      <td>41.957879</td>\n",
       "      <td>-87.649584</td>\n",
       "      <td>41.969517</td>\n",
       "      <td>-87.654691</td>\n",
       "      <td>casual</td>\n",
       "      <td>2023-02-15</td>\n",
       "      <td>13:53</td>\n",
       "      <td>2023-02</td>\n",
       "      <td>False</td>\n",
       "      <td>False</td>\n",
       "    </tr>\n",
       "    <tr>\n",
       "      <th>2</th>\n",
       "      <td>E54C1F27FA9354FF</td>\n",
       "      <td>classic_bike</td>\n",
       "      <td>2023-02-19 11:10:57</td>\n",
       "      <td>2023-02-19 11:35:01</td>\n",
       "      <td>Southport Ave &amp; Clybourn Ave</td>\n",
       "      <td>TA1309000030</td>\n",
       "      <td>Southport Ave &amp; Clybourn Ave</td>\n",
       "      <td>13156</td>\n",
       "      <td>41.920771</td>\n",
       "      <td>-87.663712</td>\n",
       "      <td>41.880419</td>\n",
       "      <td>-87.655519</td>\n",
       "      <td>member</td>\n",
       "      <td>2023-02-19</td>\n",
       "      <td>11:10</td>\n",
       "      <td>2023-02</td>\n",
       "      <td>False</td>\n",
       "      <td>False</td>\n",
       "    </tr>\n",
       "    <tr>\n",
       "      <th>3</th>\n",
       "      <td>3D561E04F739CC45</td>\n",
       "      <td>electric_bike</td>\n",
       "      <td>2023-02-26 16:12:05</td>\n",
       "      <td>2023-02-26 16:39:55</td>\n",
       "      <td>Southport Ave &amp; Clybourn Ave</td>\n",
       "      <td>TA1309000030</td>\n",
       "      <td>Southport Ave &amp; Clybourn Ave</td>\n",
       "      <td>TA1309000008</td>\n",
       "      <td>41.920873</td>\n",
       "      <td>-87.663733</td>\n",
       "      <td>41.879434</td>\n",
       "      <td>-87.635504</td>\n",
       "      <td>member</td>\n",
       "      <td>2023-02-26</td>\n",
       "      <td>16:12</td>\n",
       "      <td>2023-02</td>\n",
       "      <td>False</td>\n",
       "      <td>False</td>\n",
       "    </tr>\n",
       "    <tr>\n",
       "      <th>4</th>\n",
       "      <td>0CB4B4D53B2DBE05</td>\n",
       "      <td>electric_bike</td>\n",
       "      <td>2023-02-20 11:55:23</td>\n",
       "      <td>2023-02-20 12:05:48</td>\n",
       "      <td>Prairie Ave &amp; Garfield Blvd</td>\n",
       "      <td>TA1307000160</td>\n",
       "      <td>Prairie Ave &amp; Garfield Blvd</td>\n",
       "      <td>KA1503000054</td>\n",
       "      <td>41.794827</td>\n",
       "      <td>-87.618795</td>\n",
       "      <td>41.780531</td>\n",
       "      <td>-87.605970</td>\n",
       "      <td>member</td>\n",
       "      <td>2023-02-20</td>\n",
       "      <td>11:55</td>\n",
       "      <td>2023-02</td>\n",
       "      <td>False</td>\n",
       "      <td>False</td>\n",
       "    </tr>\n",
       "  </tbody>\n",
       "</table>\n",
       "</div>"
      ],
      "text/plain": [
       "            ride_id  rideable_type          started_at            ended_at  \\\n",
       "0  CBCD0D7777F0E45F   classic_bike 2023-02-14 11:59:42 2023-02-14 12:13:38   \n",
       "1  F3EC5FCE5FF39DE9  electric_bike 2023-02-15 13:53:48 2023-02-15 13:59:08   \n",
       "2  E54C1F27FA9354FF   classic_bike 2023-02-19 11:10:57 2023-02-19 11:35:01   \n",
       "3  3D561E04F739CC45  electric_bike 2023-02-26 16:12:05 2023-02-26 16:39:55   \n",
       "4  0CB4B4D53B2DBE05  electric_bike 2023-02-20 11:55:23 2023-02-20 12:05:48   \n",
       "\n",
       "             start_station_name start_station_id  \\\n",
       "0  Southport Ave & Clybourn Ave     TA1309000030   \n",
       "1    Clarendon Ave & Gordon Ter            13379   \n",
       "2  Southport Ave & Clybourn Ave     TA1309000030   \n",
       "3  Southport Ave & Clybourn Ave     TA1309000030   \n",
       "4   Prairie Ave & Garfield Blvd     TA1307000160   \n",
       "\n",
       "               end_station_name end_station_id  start_lat  start_lng  \\\n",
       "0  Southport Ave & Clybourn Ave   TA1309000024  41.920771 -87.663712   \n",
       "1    Clarendon Ave & Gordon Ter   TA1309000041  41.957879 -87.649584   \n",
       "2  Southport Ave & Clybourn Ave          13156  41.920771 -87.663712   \n",
       "3  Southport Ave & Clybourn Ave   TA1309000008  41.920873 -87.663733   \n",
       "4   Prairie Ave & Garfield Blvd   KA1503000054  41.794827 -87.618795   \n",
       "\n",
       "     end_lat    end_lng member_casual  start_date start_time year_month  \\\n",
       "0  41.907993 -87.631501        casual  2023-02-14      11:59    2023-02   \n",
       "1  41.969517 -87.654691        casual  2023-02-15      13:53    2023-02   \n",
       "2  41.880419 -87.655519        member  2023-02-19      11:10    2023-02   \n",
       "3  41.879434 -87.635504        member  2023-02-26      16:12    2023-02   \n",
       "4  41.780531 -87.605970        member  2023-02-20      11:55    2023-02   \n",
       "\n",
       "   is_january  is_jan14_16  \n",
       "0       False        False  \n",
       "1       False        False  \n",
       "2       False        False  \n",
       "3       False        False  \n",
       "4       False        False  "
      ]
     },
     "execution_count": 54,
     "metadata": {},
     "output_type": "execute_result"
    }
   ],
   "source": [
    "df.head()"
   ]
  },
  {
   "cell_type": "markdown",
   "id": "4d17758b",
   "metadata": {},
   "source": [
    "# Roll Up By Stations"
   ]
  },
  {
   "cell_type": "code",
   "execution_count": 55,
   "id": "7690cad0",
   "metadata": {},
   "outputs": [],
   "source": [
    "#note, I take the minimum lat/lng for each station name, due to slight variations even within the same station\n",
    "df_stations = df.groupby('start_station_name').agg(\n",
    "    rides_all=('ride_id', 'count'),\n",
    "    rides_january=('is_january', 'sum'),\n",
    "    rides_jan14_16=('is_jan14_16','sum'),\n",
    "    first_ride=('start_date','min'),\n",
    "    last_ride=('start_date','max'),\n",
    "    first_lat=('start_lat','min'),\n",
    "    first_lng=('start_lng','min')\n",
    ").reset_index()"
   ]
  },
  {
   "cell_type": "code",
   "execution_count": 56,
   "id": "cdac59a6",
   "metadata": {},
   "outputs": [
    {
     "data": {
      "text/html": [
       "<div>\n",
       "<style scoped>\n",
       "    .dataframe tbody tr th:only-of-type {\n",
       "        vertical-align: middle;\n",
       "    }\n",
       "\n",
       "    .dataframe tbody tr th {\n",
       "        vertical-align: top;\n",
       "    }\n",
       "\n",
       "    .dataframe thead th {\n",
       "        text-align: right;\n",
       "    }\n",
       "</style>\n",
       "<table border=\"1\" class=\"dataframe\">\n",
       "  <thead>\n",
       "    <tr style=\"text-align: right;\">\n",
       "      <th></th>\n",
       "      <th>start_station_name</th>\n",
       "      <th>rides_all</th>\n",
       "      <th>rides_january</th>\n",
       "      <th>rides_jan14_16</th>\n",
       "      <th>first_ride</th>\n",
       "      <th>last_ride</th>\n",
       "      <th>first_lat</th>\n",
       "      <th>first_lng</th>\n",
       "    </tr>\n",
       "  </thead>\n",
       "  <tbody>\n",
       "    <tr>\n",
       "      <th>0</th>\n",
       "      <td>2112 W Peterson Ave</td>\n",
       "      <td>723</td>\n",
       "      <td>11</td>\n",
       "      <td>0</td>\n",
       "      <td>2023-02-02</td>\n",
       "      <td>2024-01-28</td>\n",
       "      <td>41.991028</td>\n",
       "      <td>-87.683748</td>\n",
       "    </tr>\n",
       "    <tr>\n",
       "      <th>1</th>\n",
       "      <td>410</td>\n",
       "      <td>7</td>\n",
       "      <td>0</td>\n",
       "      <td>0</td>\n",
       "      <td>2023-04-27</td>\n",
       "      <td>2023-04-27</td>\n",
       "      <td>41.900000</td>\n",
       "      <td>-87.690000</td>\n",
       "    </tr>\n",
       "    <tr>\n",
       "      <th>2</th>\n",
       "      <td>63rd St Beach</td>\n",
       "      <td>985</td>\n",
       "      <td>6</td>\n",
       "      <td>0</td>\n",
       "      <td>2023-02-12</td>\n",
       "      <td>2024-01-29</td>\n",
       "      <td>41.780818</td>\n",
       "      <td>-87.576407</td>\n",
       "    </tr>\n",
       "    <tr>\n",
       "      <th>3</th>\n",
       "      <td>900 W Harrison St</td>\n",
       "      <td>12646</td>\n",
       "      <td>449</td>\n",
       "      <td>4</td>\n",
       "      <td>2023-02-01</td>\n",
       "      <td>2024-01-31</td>\n",
       "      <td>41.842626</td>\n",
       "      <td>-87.704151</td>\n",
       "    </tr>\n",
       "    <tr>\n",
       "      <th>4</th>\n",
       "      <td>Aberdeen St &amp; Jackson Blvd</td>\n",
       "      <td>14926</td>\n",
       "      <td>544</td>\n",
       "      <td>14</td>\n",
       "      <td>2023-02-01</td>\n",
       "      <td>2024-01-31</td>\n",
       "      <td>41.869211</td>\n",
       "      <td>-87.713046</td>\n",
       "    </tr>\n",
       "  </tbody>\n",
       "</table>\n",
       "</div>"
      ],
      "text/plain": [
       "           start_station_name  rides_all  rides_january  rides_jan14_16  \\\n",
       "0         2112 W Peterson Ave        723             11               0   \n",
       "1                         410          7              0               0   \n",
       "2               63rd St Beach        985              6               0   \n",
       "3           900 W Harrison St      12646            449               4   \n",
       "4  Aberdeen St & Jackson Blvd      14926            544              14   \n",
       "\n",
       "   first_ride   last_ride  first_lat  first_lng  \n",
       "0  2023-02-02  2024-01-28  41.991028 -87.683748  \n",
       "1  2023-04-27  2023-04-27  41.900000 -87.690000  \n",
       "2  2023-02-12  2024-01-29  41.780818 -87.576407  \n",
       "3  2023-02-01  2024-01-31  41.842626 -87.704151  \n",
       "4  2023-02-01  2024-01-31  41.869211 -87.713046  "
      ]
     },
     "execution_count": 56,
     "metadata": {},
     "output_type": "execute_result"
    }
   ],
   "source": [
    "df_stations.head()"
   ]
  },
  {
   "cell_type": "code",
   "execution_count": 57,
   "id": "b4dfc4ff",
   "metadata": {},
   "outputs": [
    {
     "data": {
      "text/plain": [
       "5674449"
      ]
     },
     "execution_count": 57,
     "metadata": {},
     "output_type": "execute_result"
    }
   ],
   "source": [
    "# confirm total number of rides still matches\n",
    "df_stations['rides_all'].sum()"
   ]
  },
  {
   "cell_type": "code",
   "execution_count": 58,
   "id": "bbac0828",
   "metadata": {},
   "outputs": [
    {
     "data": {
      "text/html": [
       "<div>\n",
       "<style scoped>\n",
       "    .dataframe tbody tr th:only-of-type {\n",
       "        vertical-align: middle;\n",
       "    }\n",
       "\n",
       "    .dataframe tbody tr th {\n",
       "        vertical-align: top;\n",
       "    }\n",
       "\n",
       "    .dataframe thead th {\n",
       "        text-align: right;\n",
       "    }\n",
       "</style>\n",
       "<table border=\"1\" class=\"dataframe\">\n",
       "  <thead>\n",
       "    <tr style=\"text-align: right;\">\n",
       "      <th></th>\n",
       "      <th>start_station_name</th>\n",
       "      <th>rides_all</th>\n",
       "      <th>rides_january</th>\n",
       "      <th>rides_jan14_16</th>\n",
       "      <th>first_ride</th>\n",
       "      <th>last_ride</th>\n",
       "      <th>first_lat</th>\n",
       "      <th>first_lng</th>\n",
       "    </tr>\n",
       "  </thead>\n",
       "  <tbody>\n",
       "    <tr>\n",
       "      <th>1597</th>\n",
       "      <td>undocked</td>\n",
       "      <td>868160</td>\n",
       "      <td>19165</td>\n",
       "      <td>31</td>\n",
       "      <td>2023-02-01</td>\n",
       "      <td>2024-01-31</td>\n",
       "      <td>41.63</td>\n",
       "      <td>-87.94</td>\n",
       "    </tr>\n",
       "  </tbody>\n",
       "</table>\n",
       "</div>"
      ],
      "text/plain": [
       "     start_station_name  rides_all  rides_january  rides_jan14_16  first_ride  \\\n",
       "1597           undocked     868160          19165              31  2023-02-01   \n",
       "\n",
       "       last_ride  first_lat  first_lng  \n",
       "1597  2024-01-31      41.63     -87.94  "
      ]
     },
     "execution_count": 58,
     "metadata": {},
     "output_type": "execute_result"
    }
   ],
   "source": [
    "# look at count of undocked rides\n",
    "df_stations[df_stations['start_station_name']=='undocked']"
   ]
  },
  {
   "cell_type": "markdown",
   "id": "9efa4dec",
   "metadata": {},
   "source": [
    "### create dataframe for docked stations only"
   ]
  },
  {
   "cell_type": "code",
   "execution_count": 59,
   "id": "c488fa5f",
   "metadata": {},
   "outputs": [
    {
     "data": {
      "text/plain": [
       "4806289"
      ]
     },
     "execution_count": 59,
     "metadata": {},
     "output_type": "execute_result"
    }
   ],
   "source": [
    "df_stations_docked = df_stations[df_stations['start_station_name'] != 'undocked']\n",
    "df_stations_docked['rides_all'].sum()"
   ]
  },
  {
   "cell_type": "markdown",
   "id": "f8123b40",
   "metadata": {},
   "source": [
    "# Roll Up By Undocked Locations\n",
    "Despite the infinite number of possible GPS positions for undocked bikes, Divvy's dataset only approximates these locations to two decimal places for latitude and longitude. This results in only 730 possible undocked locations."
   ]
  },
  {
   "cell_type": "markdown",
   "id": "f9ef4c2c",
   "metadata": {},
   "source": [
    "### create one dataframe for undocked rides only"
   ]
  },
  {
   "cell_type": "code",
   "execution_count": 64,
   "id": "6f64bf1f",
   "metadata": {},
   "outputs": [
    {
     "data": {
      "text/plain": [
       "868160"
      ]
     },
     "execution_count": 64,
     "metadata": {},
     "output_type": "execute_result"
    }
   ],
   "source": [
    "df_rides_undocked = df[df['start_station_name']=='undocked']\n",
    "len(df_rides_undocked)"
   ]
  },
  {
   "cell_type": "code",
   "execution_count": 68,
   "id": "f08abc3c",
   "metadata": {},
   "outputs": [],
   "source": [
    "df_locations_undocked = df_rides_undocked.groupby(['start_lat','start_lng']).agg(\n",
    "    rides_all=('ride_id', 'count'),\n",
    "    rides_january=('is_january', 'sum'),\n",
    "    rides_jan14_16=('is_jan14_16','sum'),\n",
    "    first_ride=('start_date','min'),\n",
    "    last_ride=('start_date','max')\n",
    ").reset_index()"
   ]
  },
  {
   "cell_type": "code",
   "execution_count": 69,
   "id": "ffe3e3b8",
   "metadata": {},
   "outputs": [
    {
     "data": {
      "text/html": [
       "<div>\n",
       "<style scoped>\n",
       "    .dataframe tbody tr th:only-of-type {\n",
       "        vertical-align: middle;\n",
       "    }\n",
       "\n",
       "    .dataframe tbody tr th {\n",
       "        vertical-align: top;\n",
       "    }\n",
       "\n",
       "    .dataframe thead th {\n",
       "        text-align: right;\n",
       "    }\n",
       "</style>\n",
       "<table border=\"1\" class=\"dataframe\">\n",
       "  <thead>\n",
       "    <tr style=\"text-align: right;\">\n",
       "      <th></th>\n",
       "      <th>start_lat</th>\n",
       "      <th>start_lng</th>\n",
       "      <th>rides_all</th>\n",
       "      <th>rides_january</th>\n",
       "      <th>rides_jan14_16</th>\n",
       "      <th>first_ride</th>\n",
       "      <th>last_ride</th>\n",
       "    </tr>\n",
       "  </thead>\n",
       "  <tbody>\n",
       "    <tr>\n",
       "      <th>0</th>\n",
       "      <td>41.63</td>\n",
       "      <td>-87.46</td>\n",
       "      <td>1</td>\n",
       "      <td>0</td>\n",
       "      <td>0</td>\n",
       "      <td>2023-08-10</td>\n",
       "      <td>2023-08-10</td>\n",
       "    </tr>\n",
       "    <tr>\n",
       "      <th>1</th>\n",
       "      <td>41.64</td>\n",
       "      <td>-87.54</td>\n",
       "      <td>2</td>\n",
       "      <td>0</td>\n",
       "      <td>0</td>\n",
       "      <td>2023-06-30</td>\n",
       "      <td>2023-10-30</td>\n",
       "    </tr>\n",
       "    <tr>\n",
       "      <th>2</th>\n",
       "      <td>41.65</td>\n",
       "      <td>-87.62</td>\n",
       "      <td>1</td>\n",
       "      <td>0</td>\n",
       "      <td>0</td>\n",
       "      <td>2023-06-18</td>\n",
       "      <td>2023-06-18</td>\n",
       "    </tr>\n",
       "    <tr>\n",
       "      <th>3</th>\n",
       "      <td>41.65</td>\n",
       "      <td>-87.61</td>\n",
       "      <td>2</td>\n",
       "      <td>0</td>\n",
       "      <td>0</td>\n",
       "      <td>2023-04-21</td>\n",
       "      <td>2023-06-03</td>\n",
       "    </tr>\n",
       "    <tr>\n",
       "      <th>4</th>\n",
       "      <td>41.65</td>\n",
       "      <td>-87.60</td>\n",
       "      <td>17</td>\n",
       "      <td>0</td>\n",
       "      <td>0</td>\n",
       "      <td>2023-02-13</td>\n",
       "      <td>2023-08-22</td>\n",
       "    </tr>\n",
       "    <tr>\n",
       "      <th>...</th>\n",
       "      <td>...</td>\n",
       "      <td>...</td>\n",
       "      <td>...</td>\n",
       "      <td>...</td>\n",
       "      <td>...</td>\n",
       "      <td>...</td>\n",
       "      <td>...</td>\n",
       "    </tr>\n",
       "    <tr>\n",
       "      <th>725</th>\n",
       "      <td>42.07</td>\n",
       "      <td>-87.72</td>\n",
       "      <td>7</td>\n",
       "      <td>0</td>\n",
       "      <td>0</td>\n",
       "      <td>2023-05-18</td>\n",
       "      <td>2023-11-21</td>\n",
       "    </tr>\n",
       "    <tr>\n",
       "      <th>726</th>\n",
       "      <td>42.07</td>\n",
       "      <td>-87.71</td>\n",
       "      <td>16</td>\n",
       "      <td>0</td>\n",
       "      <td>0</td>\n",
       "      <td>2023-04-09</td>\n",
       "      <td>2023-12-24</td>\n",
       "    </tr>\n",
       "    <tr>\n",
       "      <th>727</th>\n",
       "      <td>42.07</td>\n",
       "      <td>-87.70</td>\n",
       "      <td>33</td>\n",
       "      <td>0</td>\n",
       "      <td>0</td>\n",
       "      <td>2023-02-18</td>\n",
       "      <td>2023-12-05</td>\n",
       "    </tr>\n",
       "    <tr>\n",
       "      <th>728</th>\n",
       "      <td>42.07</td>\n",
       "      <td>-87.69</td>\n",
       "      <td>79</td>\n",
       "      <td>1</td>\n",
       "      <td>0</td>\n",
       "      <td>2023-02-06</td>\n",
       "      <td>2024-01-08</td>\n",
       "    </tr>\n",
       "    <tr>\n",
       "      <th>729</th>\n",
       "      <td>42.07</td>\n",
       "      <td>-87.68</td>\n",
       "      <td>64</td>\n",
       "      <td>0</td>\n",
       "      <td>0</td>\n",
       "      <td>2023-03-31</td>\n",
       "      <td>2023-12-03</td>\n",
       "    </tr>\n",
       "  </tbody>\n",
       "</table>\n",
       "<p>730 rows × 7 columns</p>\n",
       "</div>"
      ],
      "text/plain": [
       "     start_lat  start_lng  rides_all  rides_january  rides_jan14_16  \\\n",
       "0        41.63     -87.46          1              0               0   \n",
       "1        41.64     -87.54          2              0               0   \n",
       "2        41.65     -87.62          1              0               0   \n",
       "3        41.65     -87.61          2              0               0   \n",
       "4        41.65     -87.60         17              0               0   \n",
       "..         ...        ...        ...            ...             ...   \n",
       "725      42.07     -87.72          7              0               0   \n",
       "726      42.07     -87.71         16              0               0   \n",
       "727      42.07     -87.70         33              0               0   \n",
       "728      42.07     -87.69         79              1               0   \n",
       "729      42.07     -87.68         64              0               0   \n",
       "\n",
       "     first_ride   last_ride  \n",
       "0    2023-08-10  2023-08-10  \n",
       "1    2023-06-30  2023-10-30  \n",
       "2    2023-06-18  2023-06-18  \n",
       "3    2023-04-21  2023-06-03  \n",
       "4    2023-02-13  2023-08-22  \n",
       "..          ...         ...  \n",
       "725  2023-05-18  2023-11-21  \n",
       "726  2023-04-09  2023-12-24  \n",
       "727  2023-02-18  2023-12-05  \n",
       "728  2023-02-06  2024-01-08  \n",
       "729  2023-03-31  2023-12-03  \n",
       "\n",
       "[730 rows x 7 columns]"
      ]
     },
     "execution_count": 69,
     "metadata": {},
     "output_type": "execute_result"
    }
   ],
   "source": [
    "df_locations_undocked"
   ]
  },
  {
   "cell_type": "markdown",
   "id": "cb283e00",
   "metadata": {},
   "source": [
    "# Summarize by Season"
   ]
  },
  {
   "cell_type": "code",
   "execution_count": 87,
   "id": "8930b3a6",
   "metadata": {},
   "outputs": [
    {
     "data": {
      "text/html": [
       "<div>\n",
       "<style scoped>\n",
       "    .dataframe tbody tr th:only-of-type {\n",
       "        vertical-align: middle;\n",
       "    }\n",
       "\n",
       "    .dataframe tbody tr th {\n",
       "        vertical-align: top;\n",
       "    }\n",
       "\n",
       "    .dataframe thead th {\n",
       "        text-align: right;\n",
       "    }\n",
       "</style>\n",
       "<table border=\"1\" class=\"dataframe\">\n",
       "  <thead>\n",
       "    <tr style=\"text-align: right;\">\n",
       "      <th></th>\n",
       "      <th>year_month</th>\n",
       "      <th>rides_all</th>\n",
       "    </tr>\n",
       "  </thead>\n",
       "  <tbody>\n",
       "    <tr>\n",
       "      <th>0</th>\n",
       "      <td>2023-02</td>\n",
       "      <td>190445</td>\n",
       "    </tr>\n",
       "    <tr>\n",
       "      <th>1</th>\n",
       "      <td>2023-03</td>\n",
       "      <td>258678</td>\n",
       "    </tr>\n",
       "    <tr>\n",
       "      <th>2</th>\n",
       "      <td>2023-04</td>\n",
       "      <td>426590</td>\n",
       "    </tr>\n",
       "    <tr>\n",
       "      <th>3</th>\n",
       "      <td>2023-05</td>\n",
       "      <td>604827</td>\n",
       "    </tr>\n",
       "    <tr>\n",
       "      <th>4</th>\n",
       "      <td>2023-06</td>\n",
       "      <td>719618</td>\n",
       "    </tr>\n",
       "    <tr>\n",
       "      <th>5</th>\n",
       "      <td>2023-07</td>\n",
       "      <td>767650</td>\n",
       "    </tr>\n",
       "    <tr>\n",
       "      <th>6</th>\n",
       "      <td>2023-08</td>\n",
       "      <td>771693</td>\n",
       "    </tr>\n",
       "    <tr>\n",
       "      <th>7</th>\n",
       "      <td>2023-09</td>\n",
       "      <td>666371</td>\n",
       "    </tr>\n",
       "    <tr>\n",
       "      <th>8</th>\n",
       "      <td>2023-10</td>\n",
       "      <td>537113</td>\n",
       "    </tr>\n",
       "    <tr>\n",
       "      <th>9</th>\n",
       "      <td>2023-11</td>\n",
       "      <td>362518</td>\n",
       "    </tr>\n",
       "    <tr>\n",
       "      <th>10</th>\n",
       "      <td>2023-12</td>\n",
       "      <td>224073</td>\n",
       "    </tr>\n",
       "    <tr>\n",
       "      <th>11</th>\n",
       "      <td>2024-01</td>\n",
       "      <td>144873</td>\n",
       "    </tr>\n",
       "  </tbody>\n",
       "</table>\n",
       "</div>"
      ],
      "text/plain": [
       "   year_month  rides_all\n",
       "0     2023-02     190445\n",
       "1     2023-03     258678\n",
       "2     2023-04     426590\n",
       "3     2023-05     604827\n",
       "4     2023-06     719618\n",
       "5     2023-07     767650\n",
       "6     2023-08     771693\n",
       "7     2023-09     666371\n",
       "8     2023-10     537113\n",
       "9     2023-11     362518\n",
       "10    2023-12     224073\n",
       "11    2024-01     144873"
      ]
     },
     "execution_count": 87,
     "metadata": {},
     "output_type": "execute_result"
    }
   ],
   "source": [
    "df_monthly = df.groupby('year_month').agg(\n",
    "    rides_all=('ride_id', 'count'),\n",
    ").reset_index()\n",
    "df_monthly"
   ]
  },
  {
   "cell_type": "code",
   "execution_count": 88,
   "id": "5d01f589",
   "metadata": {},
   "outputs": [
    {
     "data": {
      "text/plain": [
       "5674449"
      ]
     },
     "execution_count": 88,
     "metadata": {},
     "output_type": "execute_result"
    }
   ],
   "source": [
    "df_monthly['rides_all'].sum()"
   ]
  },
  {
   "cell_type": "markdown",
   "id": "009e26b3",
   "metadata": {},
   "source": [
    "# Export for Analysis"
   ]
  },
  {
   "cell_type": "code",
   "execution_count": 85,
   "id": "6f00eaa0",
   "metadata": {},
   "outputs": [],
   "source": [
    "# all rides\n",
    "# this file is mondo, too big to upload to GitHub, and I don't really need it.\n",
    "#df.to_csv(\"../data/02-prepped/rides-2023-02-to-2024-01.csv\", index=False)"
   ]
  },
  {
   "cell_type": "code",
   "execution_count": 81,
   "id": "35d8e603",
   "metadata": {},
   "outputs": [],
   "source": [
    "# docked stations\n",
    "df_stations_docked.to_csv(\"../data/02-prepped/stations-2023-02-to-2024-01.csv\", index=False)"
   ]
  },
  {
   "cell_type": "code",
   "execution_count": 70,
   "id": "c8dbcee0",
   "metadata": {},
   "outputs": [],
   "source": [
    "# undocked locations\n",
    "df_locations_undocked.to_csv(\"../data/02-prepped/undocked-locations-2023-02-to-2024-01.csv\", index=False)"
   ]
  },
  {
   "cell_type": "code",
   "execution_count": 86,
   "id": "30911cb2",
   "metadata": {},
   "outputs": [],
   "source": [
    "# undocked rides\n",
    "df_rides_undocked.to_csv(\"../data/02-prepped/rides-undocked-2023-02-to-2024-01.csv\", index=False)"
   ]
  },
  {
   "cell_type": "code",
   "execution_count": 89,
   "id": "42943529",
   "metadata": {},
   "outputs": [],
   "source": [
    "# undocked rides\n",
    "df_monthly.to_csv(\"../results/rides-by-month.csv\", index=False)"
   ]
  },
  {
   "cell_type": "code",
   "execution_count": null,
   "id": "9d196d49",
   "metadata": {},
   "outputs": [],
   "source": []
  }
 ],
 "metadata": {
  "kernelspec": {
   "display_name": "Python 3 (ipykernel)",
   "language": "python",
   "name": "python3"
  },
  "language_info": {
   "codemirror_mode": {
    "name": "ipython",
    "version": 3
   },
   "file_extension": ".py",
   "mimetype": "text/x-python",
   "name": "python",
   "nbconvert_exporter": "python",
   "pygments_lexer": "ipython3",
   "version": "3.10.12"
  }
 },
 "nbformat": 4,
 "nbformat_minor": 5
}
